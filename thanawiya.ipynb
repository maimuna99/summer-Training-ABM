{
 "cells": [
  {
   "cell_type": "code",
   "execution_count": 3,
   "metadata": {},
   "outputs": [
    {
     "name": "stdout",
     "output_type": "stream",
     "text": [
      "Collecting twilio\n",
      "  Downloading twilio-6.62.0.tar.gz (484 kB)\n",
      "\u001b[K     |████████████████████████████████| 484 kB 94 kB/s eta 0:00:01\n",
      "\u001b[?25hRequirement already satisfied: six in ./opt/anaconda3/lib/python3.8/site-packages (from twilio) (1.15.0)\n",
      "Requirement already satisfied: pytz in ./opt/anaconda3/lib/python3.8/site-packages (from twilio) (2020.1)\n",
      "Collecting PyJWT==1.7.1\n",
      "  Downloading PyJWT-1.7.1-py2.py3-none-any.whl (18 kB)\n",
      "Requirement already satisfied: requests>=2.0.0 in ./opt/anaconda3/lib/python3.8/site-packages (from twilio) (2.24.0)\n",
      "Requirement already satisfied: idna<3,>=2.5 in ./opt/anaconda3/lib/python3.8/site-packages (from requests>=2.0.0->twilio) (2.10)\n",
      "Requirement already satisfied: urllib3!=1.25.0,!=1.25.1,<1.26,>=1.21.1 in ./opt/anaconda3/lib/python3.8/site-packages (from requests>=2.0.0->twilio) (1.25.11)\n",
      "Requirement already satisfied: chardet<4,>=3.0.2 in ./opt/anaconda3/lib/python3.8/site-packages (from requests>=2.0.0->twilio) (3.0.4)\n",
      "Requirement already satisfied: certifi>=2017.4.17 in ./opt/anaconda3/lib/python3.8/site-packages (from requests>=2.0.0->twilio) (2020.6.20)\n",
      "Building wheels for collected packages: twilio\n",
      "  Building wheel for twilio (setup.py) ... \u001b[?25ldone\n",
      "\u001b[?25h  Created wheel for twilio: filename=twilio-6.62.0-py2.py3-none-any.whl size=1281433 sha256=aaaab0f9d9f17448da61c121959c1c62afe4355d8d420fb6fa50c2fd93e24402\n",
      "  Stored in directory: /Users/maimunawahaibi/Library/Caches/pip/wheels/4d/77/20/8c33e615654c3a8e62326cd3aa1dcdb81491913975f1f32e84\n",
      "Successfully built twilio\n",
      "Installing collected packages: PyJWT, twilio\n",
      "Successfully installed PyJWT-1.7.1 twilio-6.62.0\n",
      "Note: you may need to restart the kernel to use updated packages.\n"
     ]
    }
   ],
   "source": [
    "pip install twilio\n"
   ]
  },
  {
   "cell_type": "code",
   "execution_count": 53,
   "metadata": {},
   "outputs": [
    {
     "name": "stdout",
     "output_type": "stream",
     "text": [
      "    SR     Seat                            Name  ISL  ARA  ENG  P.E.  ART  \\\n",
      "0    1  45623.0         أحمد خالد محمد الفطيسي   NaN  NaN  NaN   NaN  NaN   \n",
      "1    2  45624.0       أحمد عبدالله سيف العميري   NaN  NaN  NaN   NaN  NaN   \n",
      "2    3  45625.0          أحمد ناجي حبيب المعيني  NaN  NaN  NaN   NaN  NaN   \n",
      "3    4  45626.0      أحمد ناصر عبدالله الكمياني  NaN  NaN  NaN   NaN  NaN   \n",
      "4    5  45627.0          أحمد يوسف محمد الوردي   NaN  NaN  NaN   NaN  NaN   \n",
      "5    6  45628.0     أسعد سليمان عبدالله المحرزي  NaN  NaN  NaN   NaN  NaN   \n",
      "6    7  45629.0           أنس احمد محمد الراسبي  NaN  NaN  NaN   NaN  NaN   \n",
      "7    8  45630.0       ابراهيم سعيد سالم المفرجي  NaN  NaN  NaN   NaN  NaN   \n",
      "8    9  45631.0       احمد سعود سليمان الهنائي   NaN  NaN  NaN   NaN  NaN   \n",
      "9   10  45632.0      الحارث عادل حمود البوسعيدي  NaN  NaN  NaN   NaN  NaN   \n",
      "10  11  45633.0   المعتصم خليفه عبدالله العامري  NaN  NaN  NaN   NaN  NaN   \n",
      "11  12  45634.0       المنذر بسام حيات البلوشي   NaN  NaN  NaN   NaN  NaN   \n",
      "12  13  45635.0      المهلب سليمان حمد العدواني  NaN  NaN  NaN   NaN  NaN   \n",
      "13  14  45636.0        الوليد خالد ناصر الغماري  NaN  NaN  NaN   NaN  NaN   \n",
      "14  15  45637.0          جابر طارش فائل العويره  NaN  NaN  NaN   NaN  NaN   \n",
      "15  16  45638.0           جاسم احمد علي الرئيسي  NaN  NaN  NaN   NaN  NaN   \n",
      "16  17  45639.0          حمد سلطان سيف المجعلي   NaN  NaN  NaN   NaN  NaN   \n",
      "17  18  45640.0        حمد ماجد حمد سيف العيسري  NaN  NaN  NaN   NaN  NaN   \n",
      "18  19  45641.0          حميد سعيد حميد العدوي   NaN  NaN  NaN   NaN  NaN   \n",
      "19  20  45642.0          خالد محمد حمد الغافري   NaN  NaN  NaN   NaN  NaN   \n",
      "20  21  45643.0         راشد محمد سالم المحروقي  NaN  NaN  NaN   NaN  NaN   \n",
      "21  22  45644.0          زياد راشد محمد الكيومي  NaN  NaN  NaN   NaN  NaN   \n",
      "22  23  45645.0       سالم بركات محمد السليماني  NaN  NaN  NaN   NaN  NaN   \n",
      "23  24  45646.0          سالم خميس سعيد السنيدي  NaN  NaN  NaN   NaN  NaN   \n",
      "24  25  45647.0         سعد عبدالله حمود الحبسي  NaN  NaN  NaN   NaN  NaN   \n",
      "25  26  45648.0             سيف علي حمد الجهوري  NaN  NaN  NaN   NaN  NaN   \n",
      "26  27  45649.0           شهاب احمد سالم الحبسي  NaN  NaN  NaN   NaN  NaN   \n",
      "27  28  45650.0          طارق أحمد محمد البلوشي  NaN  NaN  NaN   NaN  NaN   \n",
      "28  29  45652.0     عبدالعزيز خالد سالم الشامسي  NaN  NaN  NaN   NaN  NaN   \n",
      "29  30  45653.0     عبدالعزيز مسعود علي الكندي   NaN  NaN  NaN   NaN  NaN   \n",
      "30  31  45654.0  عبدالله محمد عبدالله النبهاني   NaN  NaN  NaN   NaN  NaN   \n",
      "31  32  45651.0          عبدالمجيد حميد أوجانة   NaN  NaN  NaN   NaN  NaN   \n",
      "32  33  45655.0       عبدالملك أحمد حمود الرحبي  NaN  NaN  NaN   NaN  NaN   \n",
      "33  34  45656.0       عبدالملك محمد سعيد الحجري  NaN  NaN  NaN   NaN  NaN   \n",
      "34  35  45657.0       علي اقبال عبدالله الوهيبي  NaN  NaN  NaN   NaN  NaN   \n",
      "35  36  45658.0           علي مسعود علي الكندي   NaN  NaN  NaN   NaN  NaN   \n",
      "36  37  45659.0          عمار كلات غلوم البلوشي  NaN  NaN  NaN   NaN  NaN   \n",
      "37  38  45660.0          عمار ياسر ثابت المغيري  NaN  NaN  NaN   NaN  NaN   \n",
      "38  39  45661.0          عمّار خالد سعيد الغيثي  NaN  NaN  NaN   NaN  NaN   \n",
      "39  40  45662.0           عون عيسى خميس المعولي  NaN  NaN  NaN   NaN  NaN   \n",
      "40  41  45663.0        فراس عادل مبارك الزدجالي  NaN  NaN  NaN   NaN  NaN   \n",
      "41  42  45664.0         فيصل تركي سيف البوسعيدي  NaN  NaN  NaN   NaN  NaN   \n",
      "42  43  45665.0        ماجد سلطان حميد اليحيائي  NaN  NaN  NaN   NaN  NaN   \n",
      "43  44  45666.0          مجد عدنان احمد البلوشي  NaN  NaN  NaN   NaN  NaN   \n",
      "44  45  45667.0         محمد خالد مرهون الحسني   NaN  NaN  NaN   NaN  NaN   \n",
      "45  46  45668.0          محمد سالم ناصر القاسمي  NaN  NaN  NaN   NaN  NaN   \n",
      "46  47  45669.0        محمد سلطان محمد الزدجالي  NaN  NaN  NaN   NaN  NaN   \n",
      "47  48  45670.0   محمد سليمان محمد حميد الخاطري  NaN  NaN  NaN   NaN  NaN   \n",
      "48  49  45671.0             معاذ عبدالملك محمد   NaN  NaN  NaN   NaN  NaN   \n",
      "49  50  45672.0    معن سليمان عبدالله الجامودي   NaN  NaN  NaN   NaN  NaN   \n",
      "50  51  45673.0         منصور محمد راشد البلوشي  NaN  NaN  NaN   NaN  NaN   \n",
      "51  52  45674.0            هلال سيف سعود المنجي  NaN  NaN  NaN   NaN  NaN   \n",
      "52  53  45675.0        يحيى علي عبدالله الحارثي  NaN  NaN  NaN   NaN  NaN   \n",
      "53  54  45676.0        يزن سليمان سيف البوسعيدي  NaN  NaN  NaN   NaN  NaN   \n",
      "54  55  45677.0                 يوسف سلمان أيوب  NaN  NaN  NaN   NaN  NaN   \n",
      "55  56  45678.0          يوسف صلاح أحمد الراسبي  NaN  NaN  NaN   NaN  NaN   \n",
      "56  57  45679.0           يوسف موسى سالم الصقري  NaN  NaN  NaN   NaN  NaN   \n",
      "57  58  45680.0      يوسف يعقوب عبدالله الصوافي  NaN  NaN  NaN   NaN  NaN   \n",
      "\n",
      "    SST  CHEM  PHY  BIO  MATH  B.ST  ICT  AVG  Rank  \\\n",
      "0   NaN   NaN  NaN  NaN   NaN   NaN  NaN  NaN   NaN   \n",
      "1   NaN   NaN  NaN  NaN   NaN   NaN  NaN  NaN   NaN   \n",
      "2   NaN   NaN  NaN  NaN   NaN   NaN  NaN  NaN   NaN   \n",
      "3   NaN   NaN  NaN  NaN   NaN   NaN  NaN  NaN   NaN   \n",
      "4   NaN   NaN  NaN  NaN   NaN   NaN  NaN  NaN   NaN   \n",
      "5   NaN   NaN  NaN  NaN   NaN   NaN  NaN  NaN   NaN   \n",
      "6   NaN   NaN  NaN  NaN   NaN   NaN  NaN  NaN   NaN   \n",
      "7   NaN   NaN  NaN  NaN   NaN   NaN  NaN  NaN   NaN   \n",
      "8   NaN   NaN  NaN  NaN   NaN   NaN  NaN  NaN   NaN   \n",
      "9   NaN   NaN  NaN  NaN   NaN   NaN  NaN  NaN   NaN   \n",
      "10  NaN   NaN  NaN  NaN   NaN   NaN  NaN  NaN   NaN   \n",
      "11  NaN   NaN  NaN  NaN   NaN   NaN  NaN  NaN   NaN   \n",
      "12  NaN   NaN  NaN  NaN   NaN   NaN  NaN  NaN   NaN   \n",
      "13  NaN   NaN  NaN  NaN   NaN   NaN  NaN  NaN   NaN   \n",
      "14  NaN   NaN  NaN  NaN   NaN   NaN  NaN  NaN   NaN   \n",
      "15  NaN   NaN  NaN  NaN   NaN   NaN  NaN  NaN   NaN   \n",
      "16  NaN   NaN  NaN  NaN   NaN   NaN  NaN  NaN   NaN   \n",
      "17  NaN   NaN  NaN  NaN   NaN   NaN  NaN  NaN   NaN   \n",
      "18  NaN   NaN  NaN  NaN   NaN   NaN  NaN  NaN   NaN   \n",
      "19  NaN   NaN  NaN  NaN   NaN   NaN  NaN  NaN   NaN   \n",
      "20  NaN   NaN  NaN  NaN   NaN   NaN  NaN  NaN   NaN   \n",
      "21  NaN   NaN  NaN  NaN   NaN   NaN  NaN  NaN   NaN   \n",
      "22  NaN   NaN  NaN  NaN   NaN   NaN  NaN  NaN   NaN   \n",
      "23  NaN   NaN  NaN  NaN   NaN   NaN  NaN  NaN   NaN   \n",
      "24  NaN   NaN  NaN  NaN   NaN   NaN  NaN  NaN   NaN   \n",
      "25  NaN   NaN  NaN  NaN   NaN   NaN  NaN  NaN   NaN   \n",
      "26  NaN   NaN  NaN  NaN   NaN   NaN  NaN  NaN   NaN   \n",
      "27  NaN   NaN  NaN  NaN   NaN   NaN  NaN  NaN   NaN   \n",
      "28  NaN   NaN  NaN  NaN   NaN   NaN  NaN  NaN   NaN   \n",
      "29  NaN   NaN  NaN  NaN   NaN   NaN  NaN  NaN   NaN   \n",
      "30  NaN   NaN  NaN  NaN   NaN   NaN  NaN  NaN   NaN   \n",
      "31  NaN   NaN  NaN  NaN   NaN   NaN  NaN  NaN   NaN   \n",
      "32  NaN   NaN  NaN  NaN   NaN   NaN  NaN  NaN   NaN   \n",
      "33  NaN   NaN  NaN  NaN   NaN   NaN  NaN  NaN   NaN   \n",
      "34  NaN   NaN  NaN  NaN   NaN   NaN  NaN  NaN   NaN   \n",
      "35  NaN   NaN  NaN  NaN   NaN   NaN  NaN  NaN   NaN   \n",
      "36  NaN   NaN  NaN  NaN   NaN   NaN  NaN  NaN   NaN   \n",
      "37  NaN   NaN  NaN  NaN   NaN   NaN  NaN  NaN   NaN   \n",
      "38  NaN   NaN  NaN  NaN   NaN   NaN  NaN  NaN   NaN   \n",
      "39  NaN   NaN  NaN  NaN   NaN   NaN  NaN  NaN   NaN   \n",
      "40  NaN   NaN  NaN  NaN   NaN   NaN  NaN  NaN   NaN   \n",
      "41  NaN   NaN  NaN  NaN   NaN   NaN  NaN  NaN   NaN   \n",
      "42  NaN   NaN  NaN  NaN   NaN   NaN  NaN  NaN   NaN   \n",
      "43  NaN   NaN  NaN  NaN   NaN   NaN  NaN  NaN   NaN   \n",
      "44  NaN   NaN  NaN  NaN   NaN   NaN  NaN  NaN   NaN   \n",
      "45  NaN   NaN  NaN  NaN   NaN   NaN  NaN  NaN   NaN   \n",
      "46  NaN   NaN  NaN  NaN   NaN   NaN  NaN  NaN   NaN   \n",
      "47  NaN   NaN  NaN  NaN   NaN   NaN  NaN  NaN   NaN   \n",
      "48  NaN   NaN  NaN  NaN   NaN   NaN  NaN  NaN   NaN   \n",
      "49  NaN   NaN  NaN  NaN   NaN   NaN  NaN  NaN   NaN   \n",
      "50  NaN   NaN  NaN  NaN   NaN   NaN  NaN  NaN   NaN   \n",
      "51  NaN   NaN  NaN  NaN   NaN   NaN  NaN  NaN   NaN   \n",
      "52  NaN   NaN  NaN  NaN   NaN   NaN  NaN  NaN   NaN   \n",
      "53  NaN   NaN  NaN  NaN   NaN   NaN  NaN  NaN   NaN   \n",
      "54  NaN   NaN  NaN  NaN   NaN   NaN  NaN  NaN   NaN   \n",
      "55  NaN   NaN  NaN  NaN   NaN   NaN  NaN  NaN   NaN   \n",
      "56  NaN   NaN  NaN  NaN   NaN   NaN  NaN  NaN   NaN   \n",
      "57  NaN   NaN  NaN  NaN   NaN   NaN  NaN  NaN   NaN   \n",
      "\n",
      "                                        Name.1  Unnamed: 18  \n",
      "0            AHMED KHALID MOHAMMED AL-FETEISI             1  \n",
      "1               AHMED ABDULLAH SAIF AL OMAIRI             2  \n",
      "2                    AHMED NAJI HABIB AL MAINI            3  \n",
      "3             AHMED NASSER ABDULLAH AL-KEMYANI            4  \n",
      "4               AHMED YOUSUF MOHAMED AL WARDI             5  \n",
      "5           AS'AD SULAIMAN ABDULLAH AL MAHRIZI            6  \n",
      "6                  ANAS AHMED MOHAMED AL-RASBI            7  \n",
      "7                IBRAHIM SAID SALIM AL MUFARJI            8  \n",
      "8               AHMED SAOUD SULAIMAN AL HINAI             9  \n",
      "9             AL HARITH ADIL HAMOOD AL-BUSAIDI           10  \n",
      "10         ALMUATASIM KHALIFA ABDULLAH AL AMRI           11  \n",
      "11          ALMUNTHER BASSAM HAYAT AL BALUSHI            12  \n",
      "12        AL MUHALLAB SULAIMAN HAMED AL ADWANI           13  \n",
      "13          ALWALEED KHALID NASSER AL GHAMMARI           14  \n",
      "14                JABIR TARISH FAIL AL OWAIRA            15  \n",
      "15                    JASIM AHMED ALI AL-RAISI           16  \n",
      "16                HAMED SULTAN SAIF AL MAJALI            17  \n",
      "17             HAMED MAJID HAMED SAIF AL AISRI           18  \n",
      "18                HUMAID SAID HUMAID AL-ADAWI            19  \n",
      "19             KHALID MOHAMMED HAMED ALGHAFRI            20  \n",
      "20             RASHID MOHAMED SALIM AL MAHRUQI           21  \n",
      "21             ZIYAD RASHID MOHAMMED AL KIYUMI           22  \n",
      "22          SALIM BARAKAT MOHAMED AL SULAIMANI           23  \n",
      "23                SALIM KHAMIS SAID AL SINAIDI           24  \n",
      "24               SAAD ABDULLAH HAMOOD AL HABSI           25  \n",
      "25                   SAIF ALI HAMED AL JAHWARI           26  \n",
      "26                 SHIHAB AHMED SALIM AL-HABSI           27  \n",
      "27              TARIQ AHMED MOHAMED AL BALUSHI           28  \n",
      "28           ABDUL AZIZ KHALID SALIM AL SHAMSI           29  \n",
      "29             ABDUL AZIZ MASOUD ALI AL KINDI            30  \n",
      "30    'ABDALLAH MOHAMMED 'ABDALLAH AL-NABHANI            31  \n",
      "31                   ABDELMAJID HAMID OUDJANA            32  \n",
      "32           ABDUL MALIK AHMED HAMOOD AL-RAHBI           33  \n",
      "33           ABDUL MALIK MOHAMED SAID AL HAJRI           34  \n",
      "34               ALI IQBAL ABDULLAH AL WAHAIBI           35  \n",
      "35                    ALI MASOUD ALI AL KINDI            36  \n",
      "36             AMMAR KALLAT GHULOOM AL BALUSHI           37  \n",
      "37              AMMAR YASIR THABIT AL-MUGHAIRI           38  \n",
      "38                AMMAR KHALID SAID AL GHAITHY           39  \n",
      "39                 AWOUN ISSA KHAMIS AL MAWALI           40  \n",
      "40               FIRAS ADIL MUBARAK AL-ZADJALI           41  \n",
      "41                FAISAL TURKI SAIF AL-BUSAIDI           42  \n",
      "42              MAJID SULTAN HUMAID AL YAHYAEI           43  \n",
      "43                 MAJD ADNAN AHMED AL BULUSHI           44  \n",
      "44         MOHAMMED KHALID MARHOON AL HASSANI            45  \n",
      "45             MOHAMMED SALIM NASSER AL QASSMI           46  \n",
      "46         MOHAMMED SULTAN MOHAMMED AL-ZADJALI           47  \n",
      "47  MOHAMMED SULAIMAN MOHAMED HUMAID AL KHATRI           48  \n",
      "48                  MAADH ABDUL MALIK MOHAMED            49  \n",
      "49          MAAN SULAIMAN ABDULLAH AL-JAMOUDI            50  \n",
      "50          MANSOOR MOHAMMED RASHID AL BALUSHI           51  \n",
      "51                   HILAL SAIF SAOUD AL MANJI           52  \n",
      "52                YAHYA ALI ABDULLAH AL HARTHY           53  \n",
      "53              YAZAN SULAIMAN SAIF AL-BUSAIDI           54  \n",
      "54                        YOUSSEF SELMAN AYOUB           55  \n",
      "55                 YOUSUF SALAH AHMED AL-RASBI           56  \n",
      "56                 YOUSUF MOOSA SALIM AL SAQRI           57  \n",
      "57            YOUSUF YAQOOB ABDULLAH AL SAWAFI           58  \n"
     ]
    }
   ],
   "source": [
    "import pandas as pd\n",
    "import math\n",
    "\n",
    "df = pd.read_excel (r'Desktop/Grade12-MOE.xlsx').head(58)\n",
    "print (df)\n",
    "#boys_seat_No_list= df['Seat']\n",
    "\n",
    "  "
   ]
  },
  {
   "cell_type": "code",
   "execution_count": 5,
   "metadata": {},
   "outputs": [],
   "source": [
    "#col_seat_list = df['Seat'].tolist()\n",
    "#print(col_seat_list)\n",
    "boys_SeatNo_list=[]\n",
    "#for SeatNo in col_seat_list:\n",
    "    #SeatNo= int(SeatNo)\n",
    "    #print(int( math.floor(  SeatNo ) ))\n",
    "#    boys_SeatNo_list.append(int( math.floor(  SeatNo )))\n",
    "#print(boys_SeatNo_list) "
   ]
  },
  {
   "cell_type": "code",
   "execution_count": 6,
   "metadata": {},
   "outputs": [
    {
     "name": "stdout",
     "output_type": "stream",
     "text": [
      "[45681, 45682, 45683, 45684, 45685, 45686, 45687, 45688, 45689, 45690, 45691, 45692, 45693, 45694, 45695, 45696, 45697, 45698, 45699, 45700, 45701, 45702, 45703, 45704, 45705, 45706, 45707, 45708, 45709, 45710, 45711, 45712, 45713, 45714, 45715, 45716, 45717, 45718, 45719, 45720, 45721, 45722, 45723, 45724]\n"
     ]
    }
   ],
   "source": [
    "girls_SeatNo_list=[45681,45682,45683,45684,45685,45686,45687,45688,45689,45690,45691,45692,45693,45694,45695,45696\n",
    "                   ,45697,45698,45699,45700,45701,45702,45703,45704,45705,45706,45707,45708,45709,45710,45711,45712,\n",
    "                   45713,45714,45715,45716,45717,45718,45719,45720,45721,45722,45723,45724]\n",
    "print(girls_SeatNo_list) "
   ]
  },
  {
   "cell_type": "code",
   "execution_count": 1,
   "metadata": {},
   "outputs": [
    {
     "name": "stdout",
     "output_type": "stream",
     "text": [
      "[45681, 45682, 45683, 45684, 45685, 45686, 45687, 45688, 45689, 45690, 45691, 45692, 45693, 45694, 45695, 45696, 45697, 45698, 45699, 45700, 45701, 45702, 45703, 45704, 45705, 45706, 45707, 45708, 45709, 45710, 45711, 45712, 45713, 45714, 45715, 45716, 45717, 45718, 45719, 45720, 45721, 45722, 45723, 45724]\n"
     ]
    }
   ],
   "source": [
    "girls_SeatNo_list=[45681,45682,45683,45684,45685,45686,45687,45688,45689,45690,45691,45692,45693,45694,45695,45696\n",
    "                   ,45697,45698,45699,45700,45701,45702,45703,45704,45705,45706,45707,45708,45709,45710,45711,45712,\n",
    "                   45713,45714,45715,45716,45717,45718,45719,45720,45721,45722,45723,45724]\n",
    "print(girls_SeatNo_list) "
   ]
  },
  {
   "cell_type": "code",
   "execution_count": 14,
   "metadata": {},
   "outputs": [
    {
     "ename": "TwilioRestException",
     "evalue": "HTTP 404 error: Unable to create record: The requested resource /2010-04-01/Accounts/ACfa20b2c5814e37a832f1c78b222b0f81/Messages.json was not found",
     "output_type": "error",
     "traceback": [
      "\u001b[0;31m---------------------------------------------------------------------------\u001b[0m",
      "\u001b[0;31mTwilioRestException\u001b[0m                       Traceback (most recent call last)",
      "\u001b[0;32m<ipython-input-14-2674cd6e83ec>\u001b[0m in \u001b[0;36m<module>\u001b[0;34m\u001b[0m\n\u001b[1;32m      9\u001b[0m \u001b[0;32mfor\u001b[0m \u001b[0mseatNo\u001b[0m \u001b[0;32min\u001b[0m \u001b[0mSeat_ID_list\u001b[0m\u001b[0;34m:\u001b[0m\u001b[0;34m\u001b[0m\u001b[0;34m\u001b[0m\u001b[0m\n\u001b[1;32m     10\u001b[0m \u001b[0;34m\u001b[0m\u001b[0m\n\u001b[0;32m---> 11\u001b[0;31m     message = client.messages.create(  \n\u001b[0m\u001b[1;32m     12\u001b[0m                                   \u001b[0mmessaging_service_sid\u001b[0m\u001b[0;34m=\u001b[0m\u001b[0;34m'MGc51b1762f7b38c2c22326d31fe8a50a0'\u001b[0m\u001b[0;34m,\u001b[0m\u001b[0;34m\u001b[0m\u001b[0;34m\u001b[0m\u001b[0m\n\u001b[1;32m     13\u001b[0m                                   \u001b[0mbody\u001b[0m\u001b[0;34m=\u001b[0m  \u001b[0mseatNo\u001b[0m\u001b[0;34m,\u001b[0m\u001b[0;34m\u001b[0m\u001b[0;34m\u001b[0m\u001b[0m\n",
      "\u001b[0;32m~/opt/anaconda3/lib/python3.8/site-packages/twilio/rest/api/v2010/account/message/__init__.py\u001b[0m in \u001b[0;36mcreate\u001b[0;34m(self, to, status_callback, application_sid, max_price, provide_feedback, attempt, validity_period, force_delivery, content_retention, address_retention, smart_encoded, persistent_action, from_, messaging_service_sid, body, media_url)\u001b[0m\n\u001b[1;32m     86\u001b[0m         })\n\u001b[1;32m     87\u001b[0m \u001b[0;34m\u001b[0m\u001b[0m\n\u001b[0;32m---> 88\u001b[0;31m         \u001b[0mpayload\u001b[0m \u001b[0;34m=\u001b[0m \u001b[0mself\u001b[0m\u001b[0;34m.\u001b[0m\u001b[0m_version\u001b[0m\u001b[0;34m.\u001b[0m\u001b[0mcreate\u001b[0m\u001b[0;34m(\u001b[0m\u001b[0mmethod\u001b[0m\u001b[0;34m=\u001b[0m\u001b[0;34m'POST'\u001b[0m\u001b[0;34m,\u001b[0m \u001b[0muri\u001b[0m\u001b[0;34m=\u001b[0m\u001b[0mself\u001b[0m\u001b[0;34m.\u001b[0m\u001b[0m_uri\u001b[0m\u001b[0;34m,\u001b[0m \u001b[0mdata\u001b[0m\u001b[0;34m=\u001b[0m\u001b[0mdata\u001b[0m\u001b[0;34m,\u001b[0m \u001b[0;34m)\u001b[0m\u001b[0;34m\u001b[0m\u001b[0;34m\u001b[0m\u001b[0m\n\u001b[0m\u001b[1;32m     89\u001b[0m \u001b[0;34m\u001b[0m\u001b[0m\n\u001b[1;32m     90\u001b[0m         \u001b[0;32mreturn\u001b[0m \u001b[0mMessageInstance\u001b[0m\u001b[0;34m(\u001b[0m\u001b[0mself\u001b[0m\u001b[0;34m.\u001b[0m\u001b[0m_version\u001b[0m\u001b[0;34m,\u001b[0m \u001b[0mpayload\u001b[0m\u001b[0;34m,\u001b[0m \u001b[0maccount_sid\u001b[0m\u001b[0;34m=\u001b[0m\u001b[0mself\u001b[0m\u001b[0;34m.\u001b[0m\u001b[0m_solution\u001b[0m\u001b[0;34m[\u001b[0m\u001b[0;34m'account_sid'\u001b[0m\u001b[0;34m]\u001b[0m\u001b[0;34m,\u001b[0m \u001b[0;34m)\u001b[0m\u001b[0;34m\u001b[0m\u001b[0;34m\u001b[0m\u001b[0m\n",
      "\u001b[0;32m~/opt/anaconda3/lib/python3.8/site-packages/twilio/base/version.py\u001b[0m in \u001b[0;36mcreate\u001b[0;34m(self, method, uri, params, data, headers, auth, timeout, allow_redirects)\u001b[0m\n\u001b[1;32m    203\u001b[0m \u001b[0;34m\u001b[0m\u001b[0m\n\u001b[1;32m    204\u001b[0m         \u001b[0;32mif\u001b[0m \u001b[0mresponse\u001b[0m\u001b[0;34m.\u001b[0m\u001b[0mstatus_code\u001b[0m \u001b[0;34m<\u001b[0m \u001b[0;36m200\u001b[0m \u001b[0;32mor\u001b[0m \u001b[0mresponse\u001b[0m\u001b[0;34m.\u001b[0m\u001b[0mstatus_code\u001b[0m \u001b[0;34m>=\u001b[0m \u001b[0;36m300\u001b[0m\u001b[0;34m:\u001b[0m\u001b[0;34m\u001b[0m\u001b[0;34m\u001b[0m\u001b[0m\n\u001b[0;32m--> 205\u001b[0;31m             \u001b[0;32mraise\u001b[0m \u001b[0mself\u001b[0m\u001b[0;34m.\u001b[0m\u001b[0mexception\u001b[0m\u001b[0;34m(\u001b[0m\u001b[0mmethod\u001b[0m\u001b[0;34m,\u001b[0m \u001b[0muri\u001b[0m\u001b[0;34m,\u001b[0m \u001b[0mresponse\u001b[0m\u001b[0;34m,\u001b[0m \u001b[0;34m'Unable to create record'\u001b[0m\u001b[0;34m)\u001b[0m\u001b[0;34m\u001b[0m\u001b[0;34m\u001b[0m\u001b[0m\n\u001b[0m\u001b[1;32m    206\u001b[0m \u001b[0;34m\u001b[0m\u001b[0m\n\u001b[1;32m    207\u001b[0m         \u001b[0;32mreturn\u001b[0m \u001b[0mjson\u001b[0m\u001b[0;34m.\u001b[0m\u001b[0mloads\u001b[0m\u001b[0;34m(\u001b[0m\u001b[0mresponse\u001b[0m\u001b[0;34m.\u001b[0m\u001b[0mtext\u001b[0m\u001b[0;34m)\u001b[0m\u001b[0;34m\u001b[0m\u001b[0;34m\u001b[0m\u001b[0m\n",
      "\u001b[0;31mTwilioRestException\u001b[0m: HTTP 404 error: Unable to create record: The requested resource /2010-04-01/Accounts/ACfa20b2c5814e37a832f1c78b222b0f81/Messages.json was not found"
     ]
    }
   ],
   "source": [
    "from twilio.rest import Client \n",
    "from twilio.twiml.voice_response import Redirect, VoiceResponse\n",
    "\n",
    "account_sid = 'ACfa20b2c5814e37a832f1c78b222b0f81' \n",
    "auth_token = '33c5677a0495adda50b9a72f203a88f3' \n",
    "client = Client(account_sid, auth_token) \n",
    "Seat_ID_list=[3696,3976,8365]\n",
    "\n",
    "for seatNo in Seat_ID_list:\n",
    "    \n",
    "    message = client.messages.create(  \n",
    "                                  messaging_service_sid='MGc51b1762f7b38c2c22326d31fe8a50a0', \n",
    "                                  body=  seatNo,\n",
    "                                  provide_feedback=True,\n",
    "                                  to='+96893269933' \n",
    "                              ) \n",
    "   \n",
    " \n",
    "print(message.sid)"
   ]
  },
  {
   "cell_type": "code",
   "execution_count": 56,
   "metadata": {},
   "outputs": [
    {
     "name": "stdout",
     "output_type": "stream",
     "text": [
      "Collecting algorithmia\n",
      "  Downloading algorithmia-1.10.0-py2.py3-none-any.whl (22 kB)\n",
      "Collecting algorithmia-api-client==1.5.1\n",
      "  Downloading algorithmia_api_client-1.5.1-py2.py3-none-any.whl (150 kB)\n",
      "\u001b[K     |████████████████████████████████| 150 kB 246 kB/s eta 0:00:01\n",
      "\u001b[?25hCollecting argparse\n",
      "  Downloading argparse-1.4.0-py2.py3-none-any.whl (23 kB)\n",
      "Collecting enum-compat\n",
      "  Downloading enum_compat-0.0.3-py3-none-any.whl (1.3 kB)\n",
      "Collecting algorithmia-adk<1.1,>=1.0.2\n",
      "  Downloading algorithmia_adk-1.0.3-py2.py3-none-any.whl (3.9 kB)\n",
      "Requirement already satisfied: six in ./opt/anaconda3/lib/python3.8/site-packages (from algorithmia) (1.15.0)\n",
      "Requirement already satisfied: requests in ./opt/anaconda3/lib/python3.8/site-packages (from algorithmia) (2.24.0)\n",
      "Requirement already satisfied: toml in ./opt/anaconda3/lib/python3.8/site-packages (from algorithmia) (0.10.1)\n",
      "Requirement already satisfied: python-dateutil in ./opt/anaconda3/lib/python3.8/site-packages (from algorithmia-api-client==1.5.1->algorithmia) (2.8.1)\n",
      "Requirement already satisfied: certifi in ./opt/anaconda3/lib/python3.8/site-packages (from algorithmia-api-client==1.5.1->algorithmia) (2020.6.20)\n",
      "Requirement already satisfied: urllib3>=1.15 in ./opt/anaconda3/lib/python3.8/site-packages (from algorithmia-api-client==1.5.1->algorithmia) (1.25.11)\n",
      "Requirement already satisfied: idna<3,>=2.5 in ./opt/anaconda3/lib/python3.8/site-packages (from requests->algorithmia) (2.10)\n",
      "Requirement already satisfied: chardet<4,>=3.0.2 in ./opt/anaconda3/lib/python3.8/site-packages (from requests->algorithmia) (3.0.4)\n",
      "Installing collected packages: algorithmia-api-client, argparse, enum-compat, algorithmia-adk, algorithmia\n",
      "Successfully installed algorithmia-1.10.0 algorithmia-adk-1.0.3 algorithmia-api-client-1.5.1 argparse-1.4.0 enum-compat-0.0.3\n",
      "Note: you may need to restart the kernel to use updated packages.\n"
     ]
    }
   ],
   "source": [
    "pip install algorithmia"
   ]
  },
  {
   "cell_type": "code",
   "execution_count": 65,
   "metadata": {},
   "outputs": [
    {
     "name": "stdout",
     "output_type": "stream",
     "text": [
      "<?xml version=\"1.0\" encoding=\"UTF-8\"?><Response><Message><Body>Hello World!</Body></Message><Redirect>https://wa.me/96893269933</Redirect></Response>\n"
     ]
    }
   ],
   "source": [
    "from twilio.twiml.messaging_response import Body, Message, Redirect, MessagingResponse\n",
    "\n",
    "response = MessagingResponse()\n",
    "message = Message()\n",
    "message.body('Hello World!')\n",
    "response.append(message)\n",
    "response.redirect('https://wa.me/96893269933')\n",
    "\n",
    "print(response)"
   ]
  }
 ],
 "metadata": {
  "kernelspec": {
   "display_name": "Python 3",
   "language": "python",
   "name": "python3"
  },
  "language_info": {
   "codemirror_mode": {
    "name": "ipython",
    "version": 3
   },
   "file_extension": ".py",
   "mimetype": "text/x-python",
   "name": "python",
   "nbconvert_exporter": "python",
   "pygments_lexer": "ipython3",
   "version": "3.8.5"
  }
 },
 "nbformat": 4,
 "nbformat_minor": 4
}
