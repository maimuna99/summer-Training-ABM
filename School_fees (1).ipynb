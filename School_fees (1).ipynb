{
 "cells": [
  {
   "cell_type": "markdown",
   "metadata": {},
   "source": [
    "# 2021-22 Academic Year Fees Information code"
   ]
  },
  {
   "cell_type": "code",
   "execution_count": 1,
   "metadata": {},
   "outputs": [
    {
     "name": "stdout",
     "output_type": "stream",
     "text": [
      "Enter your email address: maimuna.wahaibi@gmail.com\n",
      "How many children are studying in Ahmad bin Majid Private School? 2\n",
      "\n",
      "Class options: KG1,KG2,class1,class2,class3,class4,class5,class6,class7,class8,class9,class10,class11,class12\n",
      "Class of Child 1 : kg1\n",
      "Class of Child 2 : kg2\n",
      "Enter the names of your children\n",
      "Name of Child 1 : muna\n",
      "Name of Child 2 : huda\n"
     ]
    }
   ],
   "source": [
    "email = input(\"Enter your email address: \")\n",
    "numOfChildren = int(input(\"How many children are studying in Ahmad bin Majid Private School? \"))\n",
    "print()\n",
    "classOfChildren =[]\n",
    "print(\"Class options: KG1,KG2,class1,class2,class3,class4,class5,class6,class7,class8,class9,class10,class11,class12\")\n",
    "#check for incorrect entries\n",
    "for i in range(numOfChildren):\n",
    "    classOfChild=input(\"Class of Child \"+str(i+1)+\" : \")\n",
    "    classOfChildren.append(classOfChild.lower())\n",
    "\n",
    "NamesOfChildren=[]\n",
    "print(\"Enter the names of your children\")\n",
    "for i in range(numOfChildren):\n",
    "    NameOfChild=input(\"Name of Child \"+str(i+1)+\" : \")\n",
    "    NamesOfChildren.append(NameOfChild)\n"
   ]
  },
  {
   "cell_type": "code",
   "execution_count": 2,
   "metadata": {},
   "outputs": [
    {
     "name": "stdout",
     "output_type": "stream",
     "text": [
      "\n",
      "fees payment options:\n",
      "a. One time installment\n",
      "b. Two installments\n",
      "c. Three installments\n",
      "d. Eight installments\n",
      "Please select your fees payment option: -enter a/b/c/d- :a\n"
     ]
    }
   ],
   "source": [
    "print()\n",
    "print(\"fees payment options:\")\n",
    "print(\"a. One time installment\")\n",
    "print(\"b. Two installments\")\n",
    "print(\"c. Three installments\")\n",
    "print(\"d. Eight installments\")\n",
    "f=input(\"Please select your fees payment option: -enter a/b/c/d- :\")\n",
    "\n",
    "feesInstallment=f.lower()"
   ]
  },
  {
   "cell_type": "code",
   "execution_count": 3,
   "metadata": {},
   "outputs": [],
   "source": [
    "feesDict = {\n",
    "  \"kg1\": 1355,\n",
    "  \"kg2\": 1490,\n",
    "  \"class1\": 1786.9,\n",
    "  \"class2\":1857.9,\n",
    "    \"class3\":1988.4,\n",
    "    \"class4\":2126.4,\n",
    "    \"class5\":2261.4,\n",
    "    \"class6\":2347.4,\n",
    "    \"class7\":2487.8,\n",
    "    \"class8\":2640.3,\n",
    "    \"class9\": 2707.7,\n",
    "    \"class10\": 3225.7,\n",
    "    \"class11\": 2971.7,\n",
    "    \"class12\": 3046.2  \n",
    "}\n"
   ]
  },
  {
   "cell_type": "code",
   "execution_count": 4,
   "metadata": {},
   "outputs": [
    {
     "name": "stdout",
     "output_type": "stream",
     "text": [
      "kg1=1355\n",
      "kg2=1490\n"
     ]
    }
   ],
   "source": [
    "fees=[]\n",
    "for n in classOfChildren:\n",
    "    if n in feesDict.keys():\n",
    "        print(\"\"+str(n)+\"=\"+str(feesDict[n]))\n",
    "        fees.append(feesDict[n])\n",
    "        \n",
    "#print(fees)       \n",
    "            "
   ]
  },
  {
   "cell_type": "code",
   "execution_count": 5,
   "metadata": {},
   "outputs": [
    {
     "name": "stdout",
     "output_type": "stream",
     "text": [
      "a\n",
      "['kg1', 'kg2']\n",
      "kg1=1355\n",
      "kg2=1490\n"
     ]
    }
   ],
   "source": [
    "feesInstallmentList=[]\n",
    "print(feesInstallment)\n",
    "print(classOfChildren)\n",
    "for n in classOfChildren:\n",
    "    if n in feesDict.keys():\n",
    "        print(\"\"+str(n)+\"=\"+str(feesDict[n]))\n",
    "        \n",
    "        if feesInstallment ==\"a\":\n",
    "            feesInstallmentList.append(int(feesDict[n])*0.95) \n",
    "        if feesInstallment ==\"b\":\n",
    "            feesInstallmentList.append(int(feesDict[n])/2)\n",
    "        if feesInstallment ==\"c\":\n",
    "            feesInstallmentList.append(int(feesDict[n])/3)\n",
    "        if feesInstallment ==\"d\":\n",
    "            feesInstallmentList.append(int(feesDict[n])/8)\n",
    "            \n",
    "        \n",
    "        \n",
    "#print(feesInstallmentList) "
   ]
  },
  {
   "cell_type": "code",
   "execution_count": 6,
   "metadata": {},
   "outputs": [
    {
     "name": "stdout",
     "output_type": "stream",
     "text": [
      "Parent with an email of: maimuna.wahaibi@gmail.com registered 2 of thier children in school\n",
      "Child number1 with the name muna registered in kg1\n",
      "Child number2 with the name huda registered in kg2\n",
      "The child muna at Class kg1 School Fees are : 1287.25 OMR, One Payment before or on 31st August with 5% discount\n",
      "The child huda at Class kg2 School Fees are : 1415.5 OMR, One Payment before or on 31st August with 5% discount\n"
     ]
    }
   ],
   "source": [
    "feesInstallmentDict = {\n",
    "  \"a\": \"One Payment before or on 31st August with 5% discount\",\n",
    "  \"b\": 'Two Installments at 31st Aug and 31st Jan',\n",
    "  \"c\": \"Three Installments at 31st Aug, 30th Nov,and 28th Feb)\",\n",
    "  \"d\":'Eight Installments at 31st Aug, 30th Sep,31st Oct,30th Nov, 31st Dec,31st Jan,and 28th Feb)' \n",
    "}\n",
    "print(\"Parent with an email of: \"+email+\" registered \"+str(numOfChildren)+\" of thier children in school\")\n",
    "for i in range(numOfChildren):\n",
    "    print(\"Child number\"+str(i+1)+\" with the name \"+str(NamesOfChildren[i])+\" registered in \"+str(classOfChildren[i])+\"\")\n",
    "for n in range(numOfChildren):\n",
    "    print(\"The child \"+str(NamesOfChildren[n])+\" at Class \"+str(classOfChildren[n])+\" School Fees are : \"+str(round(feesInstallmentList[n],2))+\" OMR, \"+str(feesInstallmentDict[feesInstallment]) )\n",
    "    \n",
    "    \n",
    "    "
   ]
  },
  {
   "cell_type": "code",
   "execution_count": null,
   "metadata": {},
   "outputs": [],
   "source": []
  }
 ],
 "metadata": {
  "kernelspec": {
   "display_name": "Python 3",
   "language": "python",
   "name": "python3"
  },
  "language_info": {
   "codemirror_mode": {
    "name": "ipython",
    "version": 3
   },
   "file_extension": ".py",
   "mimetype": "text/x-python",
   "name": "python",
   "nbconvert_exporter": "python",
   "pygments_lexer": "ipython3",
   "version": "3.8.5"
  }
 },
 "nbformat": 4,
 "nbformat_minor": 4
}
